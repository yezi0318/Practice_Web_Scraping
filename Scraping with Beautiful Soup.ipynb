{
 "cells": [
  {
   "cell_type": "code",
   "execution_count": null,
   "metadata": {},
   "outputs": [],
   "source": [
    "import codecademylib3_seaborn\n",
    "from bs4 import BeautifulSoup\n",
    "import requests\n",
    "import pandas as pd\n",
    "import matplotlib.pyplot as plt\n",
    "import numpy as np"
   ]
  },
  {
   "cell_type": "code",
   "execution_count": null,
   "metadata": {},
   "outputs": [],
   "source": [
    "# Make a request to the website to get the raw HTML\n",
    "raw_data = requests.get('https://s3.amazonaws.com/codecademy-content/courses/beautifulsoup/cacao/index.html')\n",
    "#print(raw_data.text)"
   ]
  },
  {
   "cell_type": "code",
   "execution_count": null,
   "metadata": {},
   "outputs": [],
   "source": [
    "#Create a BeautifulSoup object to traverse this HTML\n",
    "soup = BeautifulSoup(raw_data.content, 'html.parser')\n",
    "print(soup)"
   ]
  },
  {
   "cell_type": "code",
   "execution_count": null,
   "metadata": {},
   "outputs": [],
   "source": [
    "#How many terrible chocolate bars are out there? And how many earned a perfect 5? \n",
    "#The first thing to do is to put all of the ratings into a list.\n",
    "#Loop through the ratings tags and get the text contained in each one. Add it to the ratings list.\n",
    "rating_tags = soup.find_all(attrs={\"class\": \"Rating\"})\n",
    "rating_tags = rating_tags[1:]\n",
    "ratings = []\n",
    "for tag in rating_tags:\n",
    "  print(tag, float(tag.string)) #convert the rating to a float\n",
    "  ratings.append(float(tag.string))\n",
    "#print(ratings)\n",
    "\n",
    "#Using Matplotlib, create a histogram of the ratings values\n",
    "plt.hist(ratings)\n",
    "#plt.show()\n",
    "\n",
    "#Find the 10 most highly rated chocolatiers\n",
    "#First, find all the tags on the webpage that contain the company names\n",
    "name_tags = soup.select(\".Company\")\n",
    "name_tags = name_tags[1:]\n",
    "name = []\n",
    "for tag in name_tags:\n",
    "  print(tag, str(tag.string))\n",
    "  name.append(str(tag.string))\n",
    "print(name)\n",
    "\n",
    "### try to see the unique values in the company list\n",
    "def unique(name_list):\n",
    "  unique_names = np.array(name_list)\n",
    "  return np.unique(unique_names)\n",
    "\n",
    "names = unique(name)\n",
    "#print(names)\n",
    "\n",
    "#Loop through the tags containing company names, and add the text from each tag to the list\n",
    "d = {'Company': name, 'Rating': ratings}\n",
    "Company_df = pd.DataFrame(data=d)\n",
    "#print(Company_df)\n",
    " \n",
    "#group your DataFrame by Company and take the average of the grouped ratings.Then, get the 10 highest rated chocolate companies. Print them out.\n",
    "mean_rating = Company_df.groupby(\"Company\").Rating.mean()\n",
    "ten_best = mean_rating.nlargest(10)\n",
    "#print(ten_best)\n",
    "\n",
    "#want to see if the chocolate experts tend to rate chocolate bars with higher levels of cacao to be better than those with lower levels of cacao.\n",
    "cocoa_percents = []\n",
    "cocoa_percent_tags = soup.select(\".CocoaPercent\")\n",
    "\n",
    "for tag in cocoa_percent_tags[1:]:\n",
    "  percent = str(tag.get_text().strip('%'))\n",
    "  cocoa_percents.append(percent)\n",
    "print(cocoa_percents)\n",
    "\n",
    "Company_df['CocoaPercentage'] = pd.DataFrame(data=cocoa_percents)\n",
    "print(Company_df)\n",
    "\n",
    "#Make a scatterplot of ratings vs percentage of cocoa\n",
    "plt.figure(2)\n",
    "plt.scatter(Company_df.CocoaPercentage, Company_df.Rating)\n",
    "\n",
    "Company_df['CocoaPercentage'] = Company_df['CocoaPercentage'].apply(float)\n",
    "#Company_df['Rating'] = Company_df['Rating'].apply(str)  \n",
    "\n",
    "\n",
    "#use some numpy commands to draw a line of best-fit over the scatterplot.\n",
    "z = np.polyfit(Company_df.CocoaPercentage, Company_df.Rating, 1)\n",
    "line_function = np.poly1d(z)\n",
    "plt.plot(Company_df.CocoaPercentage, line_function(Company_df.CocoaPercentage), \"r--\")\n",
    "plt.show()"
   ]
  }
 ],
 "metadata": {
  "kernelspec": {
   "display_name": "Python 3",
   "language": "python",
   "name": "python3"
  },
  "language_info": {
   "codemirror_mode": {
    "name": "ipython",
    "version": 3
   },
   "file_extension": ".py",
   "mimetype": "text/x-python",
   "name": "python",
   "nbconvert_exporter": "python",
   "pygments_lexer": "ipython3",
   "version": "3.7.4"
  }
 },
 "nbformat": 4,
 "nbformat_minor": 2
}
